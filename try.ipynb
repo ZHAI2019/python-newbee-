{
 "cells": [
  {
   "cell_type": "code",
   "execution_count": 1,
   "metadata": {},
   "outputs": [],
   "source": [
    "import pandas as pd\n",
    "import os\n",
    "Folder_Path = r\"D:\\jupy nt\\2019_6_datahomework\\all\\a\"          #要拼接的文件夹及其完整路径，注意不要包含中文\n",
    "SaveFile_Path =  r\"D:\\jupy nt\\2019_6_datahomework\\all\\a\"       #拼接后要保存的文件路径\n",
    "SaveFile_Name = r\"all_memory1.csv\"              #合并后要保存的文件名\n",
    "\n",
    "#修改当前工作目录\n",
    "os.chdir(Folder_Path)\n",
    "#将该文件夹下的所有文件名存入一个列表\n",
    "file_list = os.listdir()\n",
    "\n",
    "#读取第一个CSV文件并包含表头\n",
    "df = pd.read_csv(Folder_Path +'\\\\'+ file_list[0])   #编码默认UTF-8，若乱码自行更改\n",
    "\n",
    "#将读取的第一个CSV文件写入合并后的文件保存\n",
    "df.to_csv(SaveFile_Path+'\\\\'+ SaveFile_Name,encoding=\"utf_8_sig\",index=False)\n",
    "\n",
    "#循环遍历列表中各个CSV文件名，并追加到合并后的文件\n",
    "for i in range(1,len(file_list)):\n",
    "    df = pd.read_csv(Folder_Path + '\\\\'+ file_list[i])\n",
    "    df.to_csv(SaveFile_Path+'\\\\'+ SaveFile_Name,encoding=\"utf_8_sig\",index=False, header=False, mode='a+')"
   ]
  },
  {
   "cell_type": "code",
   "execution_count": 8,
   "metadata": {},
   "outputs": [
    {
     "name": "stderr",
     "output_type": "stream",
     "text": [
      "C:\\Users\\Liquid\\Anaconda3\\lib\\site-packages\\ipykernel_launcher.py:28: FutureWarning: The signature of `Series.to_csv` was aligned to that of `DataFrame.to_csv`, and argument 'header' will change its default value from False to True: please pass an explicit value to suppress this warning.\n"
     ]
    }
   ],
   "source": [
    "import pandas as pd\n",
    "import os\n",
    "import numpy as np\n",
    "m1_data = pd.read_csv(r\"D:\\jupy nt\\2019_6_datahomework\\all\\a\\all_memory1.csv\")\n",
    "m1_data = pd.DataFrame(m1_data)\n",
    "# a = (m1_datab.isnull()).sum()\n",
    "m1_data.dropna(inplace = True)\n",
    "\n",
    "conditions = []\n",
    "for i in m1_data[\"video\"]:\n",
    "    if \"FW\" in i :\n",
    "        conditions.append(\"FW\")\n",
    "    if \"RV\" in i :\n",
    "        conditions.append(\"RV\")\n",
    "m1_data['condition'] = list(conditions)\n",
    "c= m1_data.pop('condition')\n",
    "m1_data.insert(1,'condition',c)\n",
    "m1_data.drop([\"video\"],axis = 1,inplace = True)\n",
    "m1_data.sort_values(by = [\"subject\"], ascending = True , inplace = True)\n",
    "m1_data.head()\n",
    "\n",
    "g_1 = m1_data.groupby(['subject','Probe_Tests.thisIndex'])\n",
    "corr_per = g_1[\"Probe_response.corr\"].mean()\n",
    "corr_per\n",
    "# g_2 = m1_datab.groupby(['subject','Probe_response.corr'])\n",
    "# corr_rt = g_2['Probe_response.rt'].mean()\n",
    "# conf_mean = g_2['Conf_response.keys'].mean()\n",
    "corr_per.to_csv(r\"D:\\jupy nt\\2019_6_datahomework\\all\\correct1.csv\",index = True)\n",
    "# corr_rt.to_csv(r\"D:\\jupy nt\\2019_6_datahomework\\all\\rtb.csv\",index = True)\n",
    "# conf_mean.to_csv(r\"D:\\jupy nt\\2019_6_datahomework\\all\\confb.csv\",index = True)\n",
    "# df =pd.DataFrame(list(zip(g_1,g_2))) \n",
    "#df1=pd.DataFrame(list(zip(corr_per,corr_rt,conf_mean)))\n"
   ]
  },
  {
   "cell_type": "code",
   "execution_count": null,
   "metadata": {},
   "outputs": [],
   "source": [
    "import pandas as pd\n",
    "import os\n",
    "Folder_Path = r\"D:\\jupy nt\\2019_6_datahomework\\memory1\"          #要拼接的文件夹及其完整路径，注意不要包含中文\n",
    "SaveFile_Path =  r\"D:\\jupy nt\\2019_6_datahomework\\all\"       #拼接后要保存的文件路径\n",
    "SaveFile_Name = r\"all_memory1.csv\"              #合并后要保存的文件名\n",
    "\n",
    "#修改当前工作目录\n",
    "os.chdir(Folder_Path)\n",
    "#将该文件夹下的所有文件名存入一个列表\n",
    "file_list = os.listdir()\n",
    "\n",
    "#读取第一个CSV文件并包含表头\n",
    "df = pd.read_csv(Folder_Path +'\\\\'+ file_list[0])   #编码默认UTF-8，若乱码自行更改\n",
    "\n",
    "#将读取的第一个CSV文件写入合并后的文件保存\n",
    "df.to_csv(SaveFile_Path+'\\\\'+ SaveFile_Name,encoding=\"utf_8_sig\",index=False)\n",
    "\n",
    "#循环遍历列表中各个CSV文件名，并追加到合并后的文件\n",
    "for i in range(1,len(file_list)):\n",
    "    df = pd.read_csv(Folder_Path + '\\\\'+ file_list[i])\n",
    "    df.to_csv(SaveFile_Path+'\\\\'+ SaveFile_Name,encoding=\"utf_8_sig\",index=False, header=False, mode='a+')"
   ]
  },
  {
   "cell_type": "code",
   "execution_count": 28,
   "metadata": {},
   "outputs": [
    {
     "name": "stderr",
     "output_type": "stream",
     "text": [
      "C:\\Users\\Liquid\\Anaconda3\\lib\\site-packages\\ipykernel_launcher.py:48: FutureWarning: The signature of `Series.to_csv` was aligned to that of `DataFrame.to_csv`, and argument 'header' will change its default value from False to True: please pass an explicit value to suppress this warning.\n",
      "C:\\Users\\Liquid\\Anaconda3\\lib\\site-packages\\ipykernel_launcher.py:49: FutureWarning: The signature of `Series.to_csv` was aligned to that of `DataFrame.to_csv`, and argument 'header' will change its default value from False to True: please pass an explicit value to suppress this warning.\n",
      "C:\\Users\\Liquid\\Anaconda3\\lib\\site-packages\\ipykernel_launcher.py:50: FutureWarning: The signature of `Series.to_csv` was aligned to that of `DataFrame.to_csv`, and argument 'header' will change its default value from False to True: please pass an explicit value to suppress this warning.\n"
     ]
    }
   ],
   "source": [
    "import pandas as pd\n",
    "import numpy as np\n",
    "\n",
    "df = pd.read_csv(r\"D:\\jupy nt\\2019_6_datahomework\\all\\all_memory2_A.csv\")\n",
    "df = pd.DataFrame(df)\n",
    "df = df.drop([\"Finish_key.keys\",\"Finish_key.rt\"],axis = 1)\n",
    "df = df.dropna()\n",
    "condition = []\n",
    "for i in df['probesfolder']:\n",
    "    \n",
    "    if \"Nat Geo Exotic Animals 6\" in i :\n",
    "        condition.append(\"FW\")\n",
    "    if \"Animal Homes 4.1 \" in i :\n",
    "        condition.append(\"FW\")\n",
    "    if \"Planet Earth I 3 \" in i:\n",
    "        condition.append(\"FW\")\n",
    "    if \"Golden Baboons 1 \" in i :\n",
    "        condition.append(\"FW\")\n",
    "    if \"Kangaroos 3 \" in i :\n",
    "        condition.append(\"FW\")\n",
    "    if \"Golden Baboons 4\" in i:\n",
    "        condition.append(\"FW\")\n",
    "    if \"Gelada Baboons 3\" in i :\n",
    "        condition.append(\"RV\")\n",
    "    if \"Planet Earth I 5\" in i :\n",
    "        condition.append(\"RV\")\n",
    "    if \"Mana Pools 2 Probes\" in i :\n",
    "        condition.append(\"RV\")\n",
    "    if \"20s Kangaroos 4 Probes\" in i :\n",
    "        condition.append(\"RV\")\n",
    "    if \"Golden Baboons 3 Probes\" in i :\n",
    "        condition.append(\"RV\")\n",
    "    if \"Savage Kingdom Doc 3 Probes\" in i :\n",
    "        condition.append(\"RV\")\n",
    "        \n",
    "# print(condition)\n",
    "# print(len(condition))\n",
    "df[\"condition\"] = condition\n",
    "\n",
    "a = df.pop(\"condition\")\n",
    "df.insert(1,'condition',a)\n",
    "df.sort_values(by = [\"subject\"], ascending = True , inplace = True)\n",
    "g_1 = df.groupby(['subject','condition'])\n",
    "corr_per = g_1[\"Probe_response.corr\"].mean()\n",
    "g_2 = df.groupby(['subject','Probe_response.corr'])\n",
    "corr_rt = g_2['Probe_response.rt'].mean()\n",
    "conf_mean = g_2['Conf_response.keys'].mean() \n",
    "corr_per.to_csv(r\"D:\\jupy nt\\2019_6_datahomework\\all\\correct2a.csv\",index = True)\n",
    "corr_rt.to_csv(r\"D:\\jupy nt\\2019_6_datahomework\\all\\rt2a.csv\",index = True)\n",
    "conf_mean.to_csv(r\"D:\\jupy nt\\2019_6_datahomework\\all\\conf2a.csv\",index = True)\n",
    "#print(corr_per)\n",
    "\n",
    "\n"
   ]
  },
  {
   "cell_type": "code",
   "execution_count": null,
   "metadata": {},
   "outputs": [],
   "source": [
    "#     if \"Nat Geo\" in i:\n",
    "#         condition.append(\"FW\")\n",
    "#     else:\n",
    "#         condition.append(\"RV\")\n",
    "    \n",
    "#     if \"Mana Pools 2\" in i:\n",
    "#         condition.append(\"RV\")\n",
    "# if \"Mana Pools 2\" in i:\n",
    "# condition.append(\"RV\")\n",
    "# if \"Mana Pools 2\" in i:\n",
    "# condition.append(\"RV\")\n",
    "#print(condition)\n",
    "# a = len (condition)\n",
    "# print(a)"
   ]
  },
  {
   "cell_type": "code",
   "execution_count": 6,
   "metadata": {},
   "outputs": [],
   "source": [
    "import pandas as pd\n",
    "import numpy as np\n",
    "import os\n",
    "Folder_Path = r\"D:\\jupy nt\\2019_6_datahomework\\memory2\"          #要拼接的文件夹及其完整路径，注意不要包含中文\n",
    "SaveFile_Path =  r\"D:\\jupy nt\\2019_6_datahomework\\all\"       #拼接后要保存的文件路径\n",
    "SaveFile_Name = r\"all_memory2.csv\"              #合并后要保存的文件名\n",
    "\n",
    "#修改当前工作目录\n",
    "os.chdir(Folder_Path)\n",
    "#将该文件夹下的所有文件名存入一个列表\n",
    "file_list = os.listdir()\n",
    "\n",
    "#读取第一个CSV文件并包含表头\n",
    "df = pd.read_csv(Folder_Path +'\\\\'+ file_list[0])   #编码默认UTF-8，若乱码自行更改\n",
    "\n",
    "#将读取的第一个CSV文件写入合并后的文件保存\n",
    "df.to_csv(SaveFile_Path+'\\\\'+ SaveFile_Name,encoding=\"utf_8_sig\",index=False)\n",
    "\n",
    "#循环遍历列表中各个CSV文件名，并追加到合并后的文件\n",
    "for i in range(1,len(file_list)):\n",
    "    df = pd.read_csv(Folder_Path + '\\\\'+ file_list[i])\n",
    "    df.to_csv(SaveFile_Path+'\\\\'+ SaveFile_Name,encoding=\"utf_8_sig\",index=False, header=False, mode='a+')"
   ]
  },
  {
   "cell_type": "code",
   "execution_count": 18,
   "metadata": {},
   "outputs": [
    {
     "data": {
      "text/plain": [
       "24.0"
      ]
     },
     "execution_count": 18,
     "metadata": {},
     "output_type": "execute_result"
    }
   ],
   "source": [
    "864/36"
   ]
  },
  {
   "cell_type": "code",
   "execution_count": 34,
   "metadata": {},
   "outputs": [
    {
     "name": "stdout",
     "output_type": "stream",
     "text": [
      "<class 'pandas.core.frame.DataFrame'>\n",
      "Int64Index: 72 entries, 0 to 95\n",
      "Data columns (total 25 columns):\n",
      "probesfolder              72 non-null object\n",
      "condition                 72 non-null object\n",
      "Image1                    72 non-null object\n",
      "Image2                    72 non-null object\n",
      "Task_Series.thisRepN      72 non-null float64\n",
      "Task_Series.thisTrialN    72 non-null float64\n",
      "Task_Series.thisN         72 non-null float64\n",
      "Task_Series.thisIndex     72 non-null float64\n",
      "Probe_Tests.thisRepN      72 non-null float64\n",
      "Probe_Tests.thisTrialN    72 non-null float64\n",
      "Probe_Tests.thisN         72 non-null float64\n",
      "Probe_Tests.thisIndex     72 non-null float64\n",
      "Probe_response.keys       72 non-null object\n",
      "Probe_response.corr       72 non-null float64\n",
      "Probe_response.rt         72 non-null float64\n",
      "Conf_response.keys        72 non-null float64\n",
      "Conf_response.rt          72 non-null float64\n",
      "session                   72 non-null int64\n",
      "subject                   72 non-null int64\n",
      "Language                  72 non-null object\n",
      "Sex                       72 non-null object\n",
      "Age                       72 non-null int64\n",
      "date                      72 non-null object\n",
      "expName                   72 non-null object\n",
      "frameRate                 72 non-null float64\n",
      "dtypes: float64(13), int64(3), object(9)\n",
      "memory usage: 14.6+ KB\n"
     ]
    },
    {
     "name": "stderr",
     "output_type": "stream",
     "text": [
      "C:\\Users\\Liquid\\Anaconda3\\lib\\site-packages\\ipykernel_launcher.py:12: FutureWarning: The signature of `Series.to_csv` was aligned to that of `DataFrame.to_csv`, and argument 'header' will change its default value from False to True: please pass an explicit value to suppress this warning.\n",
      "  if sys.path[0] == '':\n",
      "C:\\Users\\Liquid\\Anaconda3\\lib\\site-packages\\ipykernel_launcher.py:13: FutureWarning: The signature of `Series.to_csv` was aligned to that of `DataFrame.to_csv`, and argument 'header' will change its default value from False to True: please pass an explicit value to suppress this warning.\n",
      "  del sys.path[0]\n",
      "C:\\Users\\Liquid\\Anaconda3\\lib\\site-packages\\ipykernel_launcher.py:14: FutureWarning: The signature of `Series.to_csv` was aligned to that of `DataFrame.to_csv`, and argument 'header' will change its default value from False to True: please pass an explicit value to suppress this warning.\n",
      "  \n"
     ]
    }
   ],
   "source": [
    "import pandas as pd \n",
    "df = pd.read_csv(r\"D:\\jupy nt\\2019_6_datahomework\\all\\all_memory2_B.csv\")\n",
    "df = df.drop([\"Finish_key.keys\",\"Finish_key.rt\"],axis = 1)\n",
    "df = df.dropna()\n",
    "df.info()\n",
    "df.sort_values(by = [\"subject\"], ascending = True , inplace = True)\n",
    "g_1 = df.groupby(['subject','condition'])\n",
    "corr_per = g_1[\"Probe_response.corr\"].mean()\n",
    "g_2 = df.groupby(['subject','Probe_response.corr'])\n",
    "corr_rt = g_2['Probe_response.rt'].mean()\n",
    "conf_mean = g_2['Conf_response.keys'].mean() \n",
    "corr_per.to_csv(r\"D:\\jupy nt\\2019_6_datahomework\\all\\correct2b.csv\",index = True)\n",
    "corr_rt.to_csv(r\"D:\\jupy nt\\2019_6_datahomework\\all\\rt2b.csv\",index = True)\n",
    "conf_mean.to_csv(r\"D:\\jupy nt\\2019_6_datahomework\\all\\conf2b.csv\",index = True)"
   ]
  },
  {
   "cell_type": "code",
   "execution_count": 60,
   "metadata": {},
   "outputs": [
    {
     "name": "stderr",
     "output_type": "stream",
     "text": [
      "C:\\Users\\Liquid\\Anaconda3\\lib\\site-packages\\ipykernel_launcher.py:8: SettingWithCopyWarning: \n",
      "A value is trying to be set on a copy of a slice from a DataFrame\n",
      "\n",
      "See the caveats in the documentation: http://pandas.pydata.org/pandas-docs/stable/indexing.html#indexing-view-versus-copy\n",
      "  \n"
     ]
    },
    {
     "data": {
      "image/png": "[encoded data removed]",
      "text/plain": [
       "<Figure size 432x288 with 1 Axes>"
      ]
     },
     "metadata": {
      "needs_background": "light"
     },
     "output_type": "display_data"
    }
   ],
   "source": [
    "import  pandas as pd\n",
    "import numpy as np\n",
    "import matplotlib.pyplot as plt\n",
    "\n",
    "df = pd.read_excel(r\"D:\\jupy nt\\2019_6_datahomework\\all\\S1-S2.xlsx\")\n",
    "df = pd.DataFrame(df)\n",
    "data = df[['S1-S2','age']]\n",
    "data.dropna(inplace = True)\n",
    "data1 = data[\"S1-S2\"]\n",
    "data2 = data[\"age\"]\n",
    "a = np.array(data1)\n",
    "b = np.array(data2)\n",
    "list1 = a.tolist()\n",
    "list2 = b.tolist()\n",
    "#print(list1)\n",
    "r = np.corrcoef(list1,list2)[0, 1]\n",
    "\n",
    "plt.xticks([3,4,5,6,7,8],[\"21-30\",\"31-40\",\"41-50\",\"51-60\",\"61-70\",\"≥71\"])\n",
    "plt.title(\"value age\")\n",
    "plt.xlabel(\"Age\" + \" r = \" + str('%6f'%r))\n",
    "plt.ylabel(\"value\")\n",
    "plt.scatter(list2,list1)\n",
    "plt.savefig(r\"D:\\jupy nt\\2019_6_datahomework\\all\\S1-S2.png\")\n"
   ]
  },
  {
   "cell_type": "code",
   "execution_count": 8,
   "metadata": {},
   "outputs": [
    {
     "name": "stderr",
     "output_type": "stream",
     "text": [
      "C:\\Users\\Liquid\\Anaconda3\\lib\\site-packages\\ipykernel_launcher.py:9: FutureWarning: The signature of `Series.to_csv` was aligned to that of `DataFrame.to_csv`, and argument 'header' will change its default value from False to True: please pass an explicit value to suppress this warning.\n",
      "  if __name__ == '__main__':\n"
     ]
    }
   ],
   "source": [
    "import  pandas as pd\n",
    "import numpy as np\n",
    "import matplotlib.pyplot as plt\n",
    "\n",
    "df = pd.read_csv(r\"D:\\jupy nt\\2019_6_datahomework\\all\\all_memory1_A.csv\")\n",
    "df = pd.DataFrame(df)\n",
    "g1 = df.groupby([\"subject\",\"Age\"])\n",
    "a = g1[\"Probe_response.corr\"].mean()\n",
    "a.to_csv(r\"D:\\jupy nt\\2019_6_datahomework\\all\\a.csv\",index = True)\n"
   ]
  },
  {
   "cell_type": "code",
   "execution_count": 26,
   "metadata": {},
   "outputs": [
    {
     "name": "stderr",
     "output_type": "stream",
     "text": [
      "C:\\Users\\Liquid\\Anaconda3\\lib\\site-packages\\ipykernel_launcher.py:9: SettingWithCopyWarning: \n",
      "A value is trying to be set on a copy of a slice from a DataFrame\n",
      "\n",
      "See the caveats in the documentation: http://pandas.pydata.org/pandas-docs/stable/indexing.html#indexing-view-versus-copy\n",
      "  if __name__ == '__main__':\n"
     ]
    },
    {
     "data": {
      "image/png": "[encoded data removed]",
      "text/plain": [
       "<Figure size 432x288 with 1 Axes>"
      ]
     },
     "metadata": {
      "needs_background": "light"
     },
     "output_type": "display_data"
    }
   ],
   "source": [
    "\n"
   ]
  }
 ],
 "metadata": {
  "kernelspec": {
   "display_name": "Python 3",
   "language": "python",
   "name": "python3"
  },
  "language_info": {
   "codemirror_mode": {
    "name": "ipython",
    "version": 3
   },
   "file_extension": ".py",
   "mimetype": "text/x-python",
   "name": "python",
   "nbconvert_exporter": "python",
   "pygments_lexer": "ipython3",
   "version": "3.7.3"
  }
 },
 "nbformat": 4,
 "nbformat_minor": 2
}
