{
 "cells": [
  {
   "cell_type": "code",
   "execution_count": 35,
   "metadata": {},
   "outputs": [],
   "source": [
    "import pandas as pd\n",
    "import numpy as np\n",
    "\n",
    "df = pd.read_csv(r\"D:\\jupy nt\\2019_6_datahomework\\result\\all_memory2.csv\")\n",
    "df.drop([\"Finish_key.keys\",\"Finish_key.rt\"],axis = 1,inplace = True)\n",
    "df.dropna(inplace = True)\n",
    "\n",
    "condition = []\n",
    "for i in df[\"Image1\"]:\n",
    "    if \"FW\" in i :\n",
    "        condition.append(\"FW\")\n",
    "    if \"RV\" in i :\n",
    "        condition.append(\"RV\")\n",
    "df[\"condition\"] = condition\n",
    "df.head()\n",
    "df.to_csv(r\"D:\\jupy nt\\2019_6_datahomework\\result\\all_memory22.csv\")"
   ]
  },
  {
   "cell_type": "code",
   "execution_count": null,
   "metadata": {},
   "outputs": [],
   "source": []
  },
  {
   "cell_type": "code",
   "execution_count": 27,
   "metadata": {},
   "outputs": [
    {
     "name": "stderr",
     "output_type": "stream",
     "text": [
      "C:\\Users\\Liquid\\Anaconda3\\lib\\site-packages\\ipykernel_launcher.py:9: FutureWarning: The signature of `Series.to_csv` was aligned to that of `DataFrame.to_csv`, and argument 'header' will change its default value from False to True: please pass an explicit value to suppress this warning.\n",
      "  if __name__ == '__main__':\n"
     ]
    }
   ],
   "source": [
    "import pandas as pd\n",
    "\n",
    "df = pd.read_csv(r\"D:\\jupy nt\\2019_6_datahomework\\result\\all_memory.csv\")\n",
    "df.head()\n",
    "\n",
    "g1 = df.groupby([\"subject\",\"condition\"])\n",
    "m1 = g1[\"Probe_response.corr\"].mean()\n",
    "\n",
    "m1.to_csv(r\"D:\\jupy nt\\2019_6_datahomework\\result\\m1.csv\",index = True)"
   ]
  },
  {
   "cell_type": "code",
   "execution_count": 40,
   "metadata": {},
   "outputs": [],
   "source": [
    "import pandas as pd\n",
    "import numpy as np\n",
    "\n",
    "df = pd.read_csv(r\"D:\\jupy nt\\2019_6_datahomework\\all\\all_memory2_A.csv\")\n",
    "df = pd.DataFrame(df)\n",
    "df = df.drop([\"Finish_key.keys\",\"Finish_key.rt\"],axis = 1)\n",
    "df = df.dropna()\n",
    "df.head()\n",
    "condition = []\n",
    "for i in df['probesfolder']:\n",
    "    \n",
    "    if \"Nat Geo Exotic Animals 6\" in i :\n",
    "        condition.append(\"FW\")\n",
    "    if \"Animal Homes 4.1 \" in i :\n",
    "        condition.append(\"FW\")\n",
    "    if \"Planet Earth I 3 \" in i:\n",
    "        condition.append(\"FW\")\n",
    "    if \"Golden Baboons 1 \" in i :\n",
    "        condition.append(\"FW\")\n",
    "    if \"Kangaroos 3 \" in i :\n",
    "        condition.append(\"FW\")\n",
    "    if \"Golden Baboons 4\" in i:\n",
    "        condition.append(\"FW\")\n",
    "    if \"Gelada Baboons 3\" in i :\n",
    "        condition.append(\"RV\")\n",
    "    if \"Planet Earth I 5\" in i :\n",
    "        condition.append(\"RV\")\n",
    "    if \"Mana Pools 2 Probes\" in i :\n",
    "        condition.append(\"RV\")\n",
    "    if \"20s Kangaroos 4 Probes\" in i :\n",
    "        condition.append(\"RV\")\n",
    "    if \"Golden Baboons 3 Probes\" in i :\n",
    "        condition.append(\"RV\")\n",
    "    if \"Savage Kingdom Doc 3 Probes\" in i :\n",
    "        condition.append(\"RV\")\n",
    "df[\"condition\"] = condition\n",
    "df.head()\n",
    "df.to_csv(r\"D:\\jupy nt\\2019_6_datahomework\\result\\all_memory22.csv\")"
   ]
  },
  {
   "cell_type": "code",
   "execution_count": 7,
   "metadata": {
    "scrolled": true
   },
   "outputs": [
    {
     "name": "stderr",
     "output_type": "stream",
     "text": [
      "C:\\Users\\Liquid\\Anaconda3\\lib\\site-packages\\ipykernel_launcher.py:9: FutureWarning: The signature of `Series.to_csv` was aligned to that of `DataFrame.to_csv`, and argument 'header' will change its default value from False to True: please pass an explicit value to suppress this warning.\n",
      "  if __name__ == '__main__':\n"
     ]
    }
   ],
   "source": [
    "import pandas as pd\n",
    "import numpy as np\n",
    "\n",
    "df = pd.read_excel(r\"D:\\jupy nt\\2019_6_datahomework\\set3\\set3.xlsx\" )\n",
    "df.head()\n",
    "\n",
    "g1 = df.groupby([\"subject\",\"Age\",\"session\",\"Condition\"])\n",
    "m1 = g1[\"Probe_response.corr\"].mean()\n",
    "m1.to_csv(r\"D:\\jupy nt\\2019_6_datahomework\\set3\\alls1s2.csv\" , index = True)\n",
    "\n"
   ]
  },
  {
   "cell_type": "code",
   "execution_count": 65,
   "metadata": {},
   "outputs": [
    {
     "name": "stdout",
     "output_type": "stream",
     "text": [
      "-0.29058717286014485\n",
      "[-0.29058717286014485, 0.03137907000255352]\n"
     ]
    },
    {
     "data": {
      "image/png": "[encoded data removed]",
      "text/plain": [
       "<Figure size 432x288 with 1 Axes>"
      ]
     },
     "metadata": {
      "needs_background": "light"
     },
     "output_type": "display_data"
    }
   ],
   "source": [
    "import numpy as np\n",
    "import matplotlib.pyplot as plt\n",
    "import scipy.stats as stats\n",
    "\n",
    "df = pd.read_excel(r\"D:\\jupy nt\\2019_6_datahomework\\result\\s1-s2_set_set2.xlsx\")\n",
    "df = pd.DataFrame(df)\n",
    "df.head()\n",
    "\n",
    "data = df[['S1-S2','Age']]\n",
    "# #data.dropna(inplace = True)\n",
    "data1 = data[\"S1-S2\"]\n",
    "data2 = data[\"Age\"]\n",
    "a = np.array(data1)\n",
    "b = np.array(data2)\n",
    "list1 = a.tolist()\n",
    "list2 = b.tolist()\n",
    "\n",
    "\n",
    "r = np.corrcoef(list1,list2)[0, 1]\n",
    "print(r)\n",
    "a = list(stats.pearsonr(data['S1-S2'],data[\"Age\"]))\n",
    "print(a)\n",
    "r = a[0]\n",
    "p = a[1]\n",
    "plt.title(\" $value× age$\")\n",
    "plt.xlabel(\" Age      \" + \" r = \" + str('%6f'%r) + \"  $p$ = \" + str('%6f'%p))\n",
    "plt.ylabel(\"value\")\n",
    "plt.scatter(list2,list1)\n",
    "\n",
    "plt.savefig(r\"D:\\jupy nt\\2019_6_datahomework\\result\\s1-s2_set_set2.png\")\n",
    "plt.show()"
   ]
  },
  {
   "cell_type": "code",
   "execution_count": 18,
   "metadata": {},
   "outputs": [
    {
     "name": "stdout",
     "output_type": "stream",
     "text": [
      "-0.22678502779895449\n",
      "[-0.22678502779895443, 0.13877179626060823]\n"
     ]
    },
    {
     "data": {
      "image/png": "[encoded data removed]",
      "text/plain": [
       "<Figure size 432x288 with 1 Axes>"
      ]
     },
     "metadata": {
      "needs_background": "light"
     },
     "output_type": "display_data"
    }
   ],
   "source": [
    "import pandas as pd\n",
    "import numpy as np\n",
    "import matplotlib.pyplot as plt\n",
    "import scipy.stats as stats\n",
    "\n",
    "df = pd.read_excel(r\"D:\\jupy nt\\2019_6_datahomework\\set3\\result\\s1s2.xlsx\",sheetname = \"set2set3\")\n",
    "df = pd.DataFrame(df)\n",
    "df.head()\n",
    "\n",
    "data = df[['s1-s2','Age']]\n",
    "# #data.dropna(inplace = True)\n",
    "data1 = data[\"s1-s2\"]\n",
    "data2 = data[\"Age\"]\n",
    "a = np.array(data1)\n",
    "b = np.array(data2)\n",
    "list1 = a.tolist()\n",
    "list2 = b.tolist()\n",
    "\n",
    "\n",
    "r = np.corrcoef(list1,list2)[0, 1]\n",
    "print(r)\n",
    "a = list(stats.pearsonr(data['s1-s2'],data[\"Age\"]))\n",
    "print(a)\n",
    "r = a[0]\n",
    "p = a[1]\n",
    "plt.title(\"set2&set3$session1(FW-RV)$-$session2(FW-RV)$ × $age$\")\n",
    "plt.xlabel(\" Age      \" + \" r = \" + str('%6f'%r) + \"  $p$ = \" + str('%6f'%p))\n",
    "plt.ylabel(\"value\")\n",
    "plt.scatter(list2,list1)\n",
    "\n",
    "plt.savefig(r\"D:\\jupy nt\\2019_6_datahomework\\set2\\result\\set2&set3_session1(FW-RV)$-$session2(FW-RV)$× age.png\")\n",
    "plt.show()"
   ]
  },
  {
   "cell_type": "code",
   "execution_count": 84,
   "metadata": {},
   "outputs": [
    {
     "name": "stderr",
     "output_type": "stream",
     "text": [
      "C:\\Users\\Liquid\\Anaconda3\\lib\\site-packages\\ipykernel_launcher.py:14: FutureWarning: The signature of `Series.to_csv` was aligned to that of `DataFrame.to_csv`, and argument 'header' will change its default value from False to True: please pass an explicit value to suppress this warning.\n",
      "  \n"
     ]
    }
   ],
   "source": [
    "import pandas as pd\n",
    "import numpy as np \n",
    "import matplotlib.pyplot as plt\n",
    "# %matplotlib inline\n",
    "\n",
    "df = pd.read_csv(r\"D:\\jupy nt\\2019_6_datahomework\\all\\all_perception.csv\")\n",
    "df = pd.DataFrame(df)\n",
    "df = df.drop([\"key_resp_2.keys\",\"key_resp_2.rt\",\"key_resp_6.keys\",\"key_resp_6.rt\"],axis = 1)\n",
    "df = df.dropna()\n",
    "df.head()\n",
    "\n",
    "g = df.groupby([\"subject\",\"Age\"])\n",
    "m = g[\"trials.response\"].mean()\n",
    "m.to_csv(r\"D:\\jupy nt\\2019_6_datahomework\\result\\perc.csv\")"
   ]
  },
  {
   "cell_type": "code",
   "execution_count": 8,
   "metadata": {},
   "outputs": [
    {
     "data": {
      "image/png": "[encoded data removed]",
      "text/plain": [
       "<Figure size 432x288 with 1 Axes>"
      ]
     },
     "metadata": {
      "needs_background": "light"
     },
     "output_type": "display_data"
    }
   ],
   "source": [
    "import pandas as pd\n",
    "import numpy as np \n",
    "import matplotlib.pyplot as plt\n",
    "# %matplotlib inline\n",
    "\n",
    "df = pd.read_excel(r\"D:\\jupy nt\\2019_6_datahomework\\set3\\result\\s1s2.xlsx\",sheetname = \"all70\")\n",
    "df = pd.DataFrame(df)\n",
    "df.head()\n",
    "\n",
    "n=70\n",
    "m1 = df[\"s1fw\"].mean()\n",
    "e1 = df[\"s1fw\"].std()/np.sqrt(n)\n",
    "m2 = df[\"s1rv\"].mean()\n",
    "e2 = df[\"s1rv\"].std()/np.sqrt(n)\n",
    "m3 = df[\"s2fw\"].mean()\n",
    "e3 = df[\"s2fw\"].std()/np.sqrt(n)\n",
    "m4 = df[\"s2rv\"].mean()\n",
    "e4 = df[\"s2rv\"].std()/np.sqrt(n)\n",
    "\n",
    "s1 = [m1,m2]\n",
    "es1 = [e1,e2]\n",
    "s2 = [m2,m4]\n",
    "es2 = [e3,e4]\n",
    "x1 = [1.5,4.5]\n",
    "x2 = [2.5,5.5]\n",
    "plt.xlim(0,7)\n",
    "plt.title(\"FW/RV in session1/2\")\n",
    "plt.ylabel(\"%correct\")\n",
    "plt.xlabel(\"condition\")\n",
    "plt.xticks([2,5],[\"FW\",\"RV\"])\n",
    "plt.bar(x1,s1,yerr = es1,alpha=0.7,width = 1,label = \"session1\",error_kw = {'ecolor' : 'grey', 'capsize' :5})\n",
    "plt.bar(x2,s2,yerr = es2,alpha=0.7,width = 1,label = \"session2\",error_kw = {'ecolor' : 'grey', 'capsize' :5})\n",
    "plt.legend(loc= \"best\")\n",
    "plt.savefig(r\"D:\\jupy nt\\2019_6_datahomework\\set3\\result\\FWRV in session12wrong.png\")\n",
    "plt.show()"
   ]
  },
  {
   "cell_type": "code",
   "execution_count": 5,
   "metadata": {},
   "outputs": [
    {
     "name": "stderr",
     "output_type": "stream",
     "text": [
      "C:\\Users\\Liquid\\Anaconda3\\lib\\site-packages\\pandas\\util\\_decorators.py:188: FutureWarning: The `sheetname` keyword is deprecated, use `sheet_name` instead\n",
      "  return func(*args, **kwargs)\n"
     ]
    },
    {
     "data": {
      "text/html": [
       "<div>\n",
       "<style scoped>\n",
       "    .dataframe tbody tr th:only-of-type {\n",
       "        vertical-align: middle;\n",
       "    }\n",
       "\n",
       "    .dataframe tbody tr th {\n",
       "        vertical-align: top;\n",
       "    }\n",
       "\n",
       "    .dataframe thead th {\n",
       "        text-align: right;\n",
       "    }\n",
       "</style>\n",
       "<table border=\"1\" class=\"dataframe\">\n",
       "  <thead>\n",
       "    <tr style=\"text-align: right;\">\n",
       "      <th></th>\n",
       "      <th>s1fw</th>\n",
       "      <th>s2fw</th>\n",
       "      <th>s1rv</th>\n",
       "      <th>s2rv</th>\n",
       "      <th>s1</th>\n",
       "      <th>s2</th>\n",
       "      <th>s1-s2</th>\n",
       "      <th>subj</th>\n",
       "      <th>Age</th>\n",
       "    </tr>\n",
       "  </thead>\n",
       "  <tbody>\n",
       "    <tr>\n",
       "      <th>0</th>\n",
       "      <td>0.722222</td>\n",
       "      <td>0.444444</td>\n",
       "      <td>0.611111</td>\n",
       "      <td>0.444444</td>\n",
       "      <td>0.111111</td>\n",
       "      <td>-9.992007e-16</td>\n",
       "      <td>0.111111</td>\n",
       "      <td>1</td>\n",
       "      <td>64</td>\n",
       "    </tr>\n",
       "    <tr>\n",
       "      <th>1</th>\n",
       "      <td>0.444444</td>\n",
       "      <td>0.444444</td>\n",
       "      <td>0.222222</td>\n",
       "      <td>0.777778</td>\n",
       "      <td>0.222222</td>\n",
       "      <td>-3.333333e-01</td>\n",
       "      <td>0.555556</td>\n",
       "      <td>2</td>\n",
       "      <td>61</td>\n",
       "    </tr>\n",
       "    <tr>\n",
       "      <th>2</th>\n",
       "      <td>0.666667</td>\n",
       "      <td>0.500000</td>\n",
       "      <td>0.611111</td>\n",
       "      <td>0.500000</td>\n",
       "      <td>0.055556</td>\n",
       "      <td>0.000000e+00</td>\n",
       "      <td>0.055556</td>\n",
       "      <td>3</td>\n",
       "      <td>23</td>\n",
       "    </tr>\n",
       "    <tr>\n",
       "      <th>3</th>\n",
       "      <td>0.888889</td>\n",
       "      <td>0.833333</td>\n",
       "      <td>0.722222</td>\n",
       "      <td>0.777778</td>\n",
       "      <td>0.166667</td>\n",
       "      <td>5.555556e-02</td>\n",
       "      <td>0.111111</td>\n",
       "      <td>4</td>\n",
       "      <td>33</td>\n",
       "    </tr>\n",
       "    <tr>\n",
       "      <th>4</th>\n",
       "      <td>0.888889</td>\n",
       "      <td>0.555556</td>\n",
       "      <td>0.777778</td>\n",
       "      <td>0.722222</td>\n",
       "      <td>0.111111</td>\n",
       "      <td>-1.666667e-01</td>\n",
       "      <td>0.277778</td>\n",
       "      <td>5</td>\n",
       "      <td>20</td>\n",
       "    </tr>\n",
       "  </tbody>\n",
       "</table>\n",
       "</div>"
      ],
      "text/plain": [
       "       s1fw      s2fw      s1rv      s2rv        s1            s2     s1-s2  \\\n",
       "0  0.722222  0.444444  0.611111  0.444444  0.111111 -9.992007e-16  0.111111   \n",
       "1  0.444444  0.444444  0.222222  0.777778  0.222222 -3.333333e-01  0.555556   \n",
       "2  0.666667  0.500000  0.611111  0.500000  0.055556  0.000000e+00  0.055556   \n",
       "3  0.888889  0.833333  0.722222  0.777778  0.166667  5.555556e-02  0.111111   \n",
       "4  0.888889  0.555556  0.777778  0.722222  0.111111 -1.666667e-01  0.277778   \n",
       "\n",
       "   subj  Age  \n",
       "0     1   64  \n",
       "1     2   61  \n",
       "2     3   23  \n",
       "3     4   33  \n",
       "4     5   20  "
      ]
     },
     "execution_count": 5,
     "metadata": {},
     "output_type": "execute_result"
    }
   ],
   "source": [
    "import numpy as np\n",
    "import pandas as pd\n",
    "import matplotlib.pyplot as plt\n",
    "import seaborn as sns\n",
    "\n",
    "\n",
    "df = pd.read_excel(r\"D:\\jupy nt\\2019_6_datahomework\\set3\\result\\s1s2.xlsx\",sheetname = \"all70\")\n",
    "df = pd.DataFrame(df)\n",
    "df.head()\n"
   ]
  }
 ],
 "metadata": {
  "kernelspec": {
   "display_name": "Python 3",
   "language": "python",
   "name": "python3"
  },
  "language_info": {
   "codemirror_mode": {
    "name": "ipython",
    "version": 3
   },
   "file_extension": ".py",
   "mimetype": "text/x-python",
   "name": "python",
   "nbconvert_exporter": "python",
   "pygments_lexer": "ipython3",
   "version": "3.7.3"
  }
 },
 "nbformat": 4,
 "nbformat_minor": 2
}
