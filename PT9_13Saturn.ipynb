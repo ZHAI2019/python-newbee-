{
 "cells": [
  {
   "cell_type": "code",
   "execution_count": 1,
   "metadata": {},
   "outputs": [],
   "source": [
    "# 首先把groupA的表格合并 \n",
    "import pandas as pd\n",
    "import os\n",
    "Folder_Path = r\"D:\\jupy nt\\reversal\\PT9_13\\Saturn\"          #要拼接的文件夹及其完整路径，注意不要包含中文\n",
    "SaveFile_Path =  r\"D:\\jupy nt\\reversal\\PT9_13\"       #拼接后要保存的文件路径\n",
    "SaveFile_Name = r\"saturn_pt9_13.csv\"              #合并后要保存的文件名\n",
    "\n",
    "#修改当前工作目录\n",
    "os.chdir(Folder_Path)\n",
    "#将该文件夹下的所有文件名存入一个列表\n",
    "file_list = os.listdir()\n",
    "\n",
    "#读取第一个CSV文件并包含表头\n",
    "df = pd.read_csv(Folder_Path +'\\\\'+ file_list[0])   #编码默认UTF-8，若乱码自行更改\n",
    "\n",
    "#将读取的第一个CSV文件写入合并后的文件保存\n",
    "df.to_csv(SaveFile_Path+'\\\\'+ SaveFile_Name,encoding=\"utf_8_sig\",index=False)\n",
    "\n",
    "#循环遍历列表中各个CSV文件名，并追加到合并后的文件\n",
    "for i in range(1,len(file_list)):\n",
    "    df = pd.read_csv(Folder_Path + '\\\\'+ file_list[i])\n",
    "    df.to_csv(SaveFile_Path+'\\\\'+ SaveFile_Name,encoding=\"utf_8_sig\",index=False, header=False, mode='a+')"
   ]
  },
  {
   "cell_type": "code",
   "execution_count": 49,
   "metadata": {},
   "outputs": [
    {
     "data": {
      "text/plain": [
       "[<matplotlib.lines.Line2D at 0x1c4b4285cf8>]"
      ]
     },
     "execution_count": 49,
     "metadata": {},
     "output_type": "execute_result"
    },
    {
     "data": {
      "image/png": "[encoded data removed]",
      "text/plain": [
       "<Figure size 432x288 with 1 Axes>"
      ]
     },
     "metadata": {
      "needs_background": "light"
     },
     "output_type": "display_data"
    }
   ],
   "source": [
    "import numpy as np\n",
    "import pandas as pd\n",
    "import matplotlib.pyplot as plt\n",
    "import seaborn as sns\n",
    "\n",
    "\n",
    "df = pd.read_csv(r\"D:\\jupy nt\\reversal\\PT9_13\\saturn_pt9_13.csv\")\n",
    "\n",
    "df = pd.DataFrame(df)\n",
    "# df = df[['WT_1','catch_ornot']]\n",
    "# g_1 = df.groupby('catch_ornot')\n",
    "# y = []\n",
    "# for i in g_1:\n",
    "#     y.append(i)\n",
    "#     print(y)\n",
    "\n",
    "\n",
    "\n",
    "\n",
    "# g_1 = df.groupby(['catch_ornot'])\n",
    "# m_1 = g_1['WT_1'].mean()\n",
    "# a_1 = g_1['response_1'].mean()\n",
    "\n",
    "# print(m_1)\n",
    "# y = pd.DataFrame(y)\n",
    "# y.plot.box('wagering time')\n",
    "# # # print(y)\n",
    "# plt.grid(linestyle=\"--\", alpha=0.3)\n",
    "# plt.show()\n",
    "\n",
    "\n",
    "\n",
    "    \n",
    "        \n",
    "\n",
    "\n",
    "\n"
   ]
  },
  {
   "cell_type": "code",
   "execution_count": null,
   "metadata": {},
   "outputs": [],
   "source": []
  },
  {
   "cell_type": "code",
   "execution_count": null,
   "metadata": {},
   "outputs": [],
   "source": []
  }
 ],
 "metadata": {
  "kernelspec": {
   "display_name": "Python 3",
   "language": "python",
   "name": "python3"
  },
  "language_info": {
   "codemirror_mode": {
    "name": "ipython",
    "version": 3
   },
   "file_extension": ".py",
   "mimetype": "text/x-python",
   "name": "python",
   "nbconvert_exporter": "python",
   "pygments_lexer": "ipython3",
   "version": "3.7.3"
  }
 },
 "nbformat": 4,
 "nbformat_minor": 2
}
