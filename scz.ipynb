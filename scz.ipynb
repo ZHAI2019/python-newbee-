{
 "cells": [
  {
   "cell_type": "code",
   "execution_count": 7,
   "metadata": {},
   "outputs": [],
   "source": [
    "import pandas as pd\n",
    "import numpy as np\n",
    "import matplotlib.pyplot as plt\n",
    "\n",
    "df = pd.read_excel(r\"D:\\jupy nt\\2019_6_datahomework\\SCZ\\SCZ.xlsx\")\n",
    "df = pd.DataFrame(df)\n",
    "df.head()\n",
    "g1 = df.groupby([\"subject\",\"session\",\"Condition\"])\n",
    "scz_m = g1[\"Probe_response.corr\"].mean()\n",
    "\n",
    "#scz_m.to_csv(r\"D:\\jupy nt\\2019_6_datahomework\\SCZ\\result\\corr_scz.csv\", index = True)"
   ]
  },
  {
   "cell_type": "code",
   "execution_count": 19,
   "metadata": {},
   "outputs": [
    {
     "data": {
      "image/png": "[encoded data removed]",
      "text/plain": [
       "<Figure size 432x288 with 1 Axes>"
      ]
     },
     "metadata": {
      "needs_background": "light"
     },
     "output_type": "display_data"
    },
    {
     "data": {
      "text/plain": [
       "<Figure size 432x288 with 0 Axes>"
      ]
     },
     "metadata": {},
     "output_type": "display_data"
    }
   ],
   "source": [
    "import pandas as pd\n",
    "import numpy as np\n",
    "import matplotlib.pyplot as plt\n",
    "\n",
    "df = pd.read_excel(r\"D:\\jupy nt\\2019_6_datahomework\\SCZ\\result\\scz_corr_s1s2.xlsx\")\n",
    "df = pd.DataFrame(df)\n",
    "df.head()\n",
    "\n",
    "n = 32\n",
    "g = df.groupby([\"condition\"])\n",
    "m1 = g[\"corr1\"].mean()\n",
    "\n",
    "se1 = g[\"corr1\"].std()/np.sqrt(n-1)\n",
    "m2 = g[\"corr2\"].mean()\n",
    "m2\n",
    "se2 = g[\"corr2\"].std()/np.sqrt(n-1)\n",
    "se2\n",
    "\n",
    "x1 = [1,4.5]\n",
    "y1 = list(m1)\n",
    "e1 = list(se1)\n",
    "x2 = [2,5.5]\n",
    "y2 = list(m2)\n",
    "e2 = list(se2)\n",
    "plt.title(\"SCZ %correct × condition\")\n",
    "plt.xlim(0,6.5)\n",
    "plt.xticks([1.5,5],[\"FW\",\"RV\"])\n",
    "plt.xlabel(\"condition\")\n",
    "plt.ylabel(\"%correct\")\n",
    "plt.bar(x1,y1,yerr = e1 ,alpha=0.7,width = 1,label = \"session1\",error_kw = {'ecolor' : 'grey', 'capsize' :5})\n",
    "plt.bar(x2,y2,yerr = e2 ,alpha=0.7,width = 1,label = \"session2\",error_kw = {'ecolor' : 'grey', 'capsize' :5})\n",
    "plt.legend(loc = 'best')\n",
    "plt.show()\n",
    "plt.savefig(r\"D:\\jupy nt\\2019_6_datahomework\\SCZ\\result\\scz_corr_s1s21.png\")"
   ]
  },
  {
   "cell_type": "code",
   "execution_count": 10,
   "metadata": {},
   "outputs": [],
   "source": [
    "import pandas as pd\n",
    "import numpy as np\n",
    "import matplotlib.pyplot as plt\n",
    "\n",
    "df = pd.read_excel(r\"D:\\jupy nt\\2019_6_datahomework\\SCZ\\grouphl.xlsx\")\n",
    "df = pd.DataFrame(df)\n",
    "df.head()\n",
    "g1 = df.groupby([\"subject\",\"session\",\"Condition\"])\n",
    "hlty_m = g1[\"Probe_response.corr\"].mean()\n",
    "# scz_m.to_csv(r\"D:\\jupy nt\\2019_6_datahomework\\SCZ\\result\\corr_hlty.csv\", index = True)"
   ]
  },
  {
   "cell_type": "code",
   "execution_count": 20,
   "metadata": {},
   "outputs": [
    {
     "name": "stdout",
     "output_type": "stream",
     "text": [
      "condition\n",
      "FW    0.759921\n",
      "RV    0.726190\n",
      "Name: corr1, dtype: float64 condition\n",
      "FW    0.660714\n",
      "RV    0.625000\n",
      "Name: corr2, dtype: float64\n"
     ]
    },
    {
     "data": {
      "image/png": "[encoded data removed]",
      "text/plain": [
       "<Figure size 432x288 with 1 Axes>"
      ]
     },
     "metadata": {
      "needs_background": "light"
     },
     "output_type": "display_data"
    }
   ],
   "source": [
    "import pandas as pd\n",
    "import numpy as np\n",
    "import matplotlib.pyplot as plt\n",
    "\n",
    "df = pd.read_excel(r\"D:\\jupy nt\\2019_6_datahomework\\SCZ\\result\\hlty_corr_s1s2.xlsx\")\n",
    "df = pd.DataFrame(df)\n",
    "df.head()\n",
    "\n",
    "n = 28\n",
    "g = df.groupby([\"condition\"])\n",
    "m1 = g[\"corr1\"].mean()\n",
    "se1 = g[\"corr1\"].std()/np.sqrt(n-1)\n",
    "m2 = g[\"corr2\"].mean()\n",
    "se2 = g[\"corr2\"].std()/np.sqrt(n-1)\n",
    "print(m1,m2)\n",
    "\n",
    "x1 = [1,4.5]\n",
    "y1 = list(m1)\n",
    "e1 = list(se1)\n",
    "x2 = [2,5.5]\n",
    "y2 = list(m2)\n",
    "e2 = list(se2)\n",
    "plt.title(\"HLTY %correct × condition\")\n",
    "plt.xlim(0,6.5)\n",
    "plt.xticks([1.5,5],[\"FW\",\"RV\"])\n",
    "plt.xlabel(\"condition\")\n",
    "plt.ylabel(\"%correct\")\n",
    "plt.bar(x1,y1,yerr = e1 ,alpha=0.7,width = 1,label = \"session1\",error_kw = {'ecolor' : 'grey', 'capsize' :5})\n",
    "plt.bar(x2,y2,yerr = e2 ,alpha=0.7,width = 1,label = \"session2\",error_kw = {'ecolor' : 'grey', 'capsize' :5})\n",
    "plt.legend(loc = 'best')\n",
    "plt.savefig(r\"D:\\jupy nt\\2019_6_datahomework\\SCZ\\result\\hlty_corr_s1s21.png\")\n",
    "plt.show()\n"
   ]
  },
  {
   "cell_type": "code",
   "execution_count": 14,
   "metadata": {},
   "outputs": [
    {
     "name": "stdout",
     "output_type": "stream",
     "text": [
      "[0.222222222222222, 0.3333333333333329, 0.11111111111111094, -0.055555555555554914, -0.111111111111112, 0.16666666666666596, 9.992007221626409e-16, -0.055555555555555025, 0.38888888888888906, -0.055555555555555025, -0.2222222222222221, 0.0, -0.11111111111111094, 0.2222222222222221, 0.222222222222222, 0.499999999999999, 0.444444444444444, -0.11111111111111094, 0.6111111111111109, -0.11111111111111094, 0.555555555555556, 0.277777777777777, 1.1102230246251565e-16, -0.16666666666666702, -0.22222222222222304, 0.555555555555556, 0.055555555555556024, -0.16666666666666596, -0.16666666666666596, -0.111111111111112, -9.43689570931383e-16, -0.11111111111111105] [35, 19, 25, 24, 56, 44, 60, 51, 38, 23, 29, 36, 31, 38, 56, 25, 33, 42, 37, 60, 47, 52, 46, 29, 55, 51, 32, 24, 34, 59, 25, 21]\n",
      "0.0015858752551301052\n"
     ]
    },
    {
     "data": {
      "image/png": "[encoded data removed]",
      "text/plain": [
       "<Figure size 432x288 with 1 Axes>"
      ]
     },
     "metadata": {
      "needs_background": "light"
     },
     "output_type": "display_data"
    }
   ],
   "source": [
    "import  pandas as pd\n",
    "import numpy as np\n",
    "import matplotlib.pyplot as plt\n",
    "import scipy.stats as stats\n",
    "\n",
    "df = pd.read_excel(r\"D:\\jupy nt\\2019_6_datahomework\\SCZ\\result\\scz_fw-rv.xlsx\")\n",
    "df = pd.DataFrame(df)\n",
    "df.head()\n",
    "\n",
    "data = df[['S1-S2','age']]\n",
    "# # data.dropna(inplace = True)\n",
    "data1 = data[\"S1-S2\"]\n",
    "data2 = data[\"age\"]\n",
    "a = np.array(data1)\n",
    "b = np.array(data2)\n",
    "list1 = a.tolist()\n",
    "list2 = b.tolist()\n",
    "print(list1,list2)\n",
    "df.head()\n",
    "r = np.corrcoef(list1,list2)[0, 1]\n",
    "print(r)\n",
    "a = list(stats.pearsonr(data['S1-S2'],data[\"age\"]))\n",
    "p = a[1]\n",
    "plt.title(\"SCZ $value× age$\")\n",
    "plt.xlabel(\" Age      \" + \" r = \" + str('%6f'%r) + \"  $p$ = \" + str('%6f'%p))\n",
    "plt.ylabel(\"value\")\n",
    "plt.scatter(list2,list1)\n",
    "\n",
    "plt.savefig(r\"D:\\jupy nt\\2019_6_datahomework\\SCZ\\result\\scz_s1s2age.png\")\n",
    "plt.show()"
   ]
  },
  {
   "cell_type": "code",
   "execution_count": 17,
   "metadata": {},
   "outputs": [
    {
     "name": "stdout",
     "output_type": "stream",
     "text": [
      "[-0.111111111111112, 0.277777777777777, 0.22222222222222088, 0.16666666666666707, -0.11111111111111105, 0.055555555555556024, -0.055555555555554914, 0.11111111111111105, -0.611111111111112, -0.4444444444444449, -0.222222222222222, -0.222222222222222, 0.11111111111111105, 0.277777777777778, -0.05555555555555597, -0.055555555555554914, 0.44444444444444287, 0.055555555555556024, -0.16666666666666696, 0.0, 0.055555555555555025, -0.055555555555556024, 0.055555555555555025, 0.0, 0.277777777777778, 1.1102230246251565e-16, -0.16666666666666596, 0.11111111111111205] [30, 58, 58, 41, 38, 39, 38, 24, 61, 57, 59, 60, 51, 54, 55, 48, 31, 35, 28, 26, 48, 21, 19, 20, 20, 22, 24, 21]\n",
      "-0.26113504083962585\n",
      "[-0.26113504083962585, 0.1795231965990492]\n"
     ]
    },
    {
     "data": {
      "image/png": "[encoded data removed]",
      "text/plain": [
       "<Figure size 432x288 with 1 Axes>"
      ]
     },
     "metadata": {
      "needs_background": "light"
     },
     "output_type": "display_data"
    }
   ],
   "source": [
    "import numpy as np\n",
    "import matplotlib.pyplot as plt\n",
    "import scipy.stats as stats\n",
    "\n",
    "df = pd.read_excel(r\"D:\\jupy nt\\2019_6_datahomework\\SCZ\\result\\hlty_fw-rv.xlsx\")\n",
    "df = pd.DataFrame(df)\n",
    "df.head()\n",
    "\n",
    "data = df[['S1-S21','age1']]\n",
    "# #data.dropna(inplace = True)\n",
    "data1 = data[\"S1-S21\"]\n",
    "data2 = data[\"age1\"]\n",
    "a = np.array(data1)\n",
    "b = np.array(data2)\n",
    "list1 = a.tolist()\n",
    "list2 = b.tolist()\n",
    "print(list1,list2)\n",
    "# # df.head()\n",
    "r = np.corrcoef(list1,list2)[0, 1]\n",
    "print(r)\n",
    "a = list(stats.pearsonr(data['S1-S21'],data[\"age1\"]))\n",
    "print(a)\n",
    "p = a[1]\n",
    "plt.title(\"HLTY $value× age$\")\n",
    "plt.xlabel(\" Age      \" + \" r = \" + str('%6f'%r) + \"  $p$ = \" + str('%6f'%p))\n",
    "plt.ylabel(\"value\")\n",
    "plt.scatter(list2,list1)\n",
    "\n",
    "plt.savefig(r\"D:\\jupy nt\\2019_6_datahomework\\SCZ\\result\\hlty_s1s2age1.png\")\n",
    "plt.show()"
   ]
  },
  {
   "cell_type": "code",
   "execution_count": null,
   "metadata": {},
   "outputs": [],
   "source": []
  },
  {
   "cell_type": "code",
   "execution_count": 36,
   "metadata": {},
   "outputs": [
    {
     "name": "stdout",
     "output_type": "stream",
     "text": [
      "condition\n",
      "FW    0.758681\n",
      "RV    0.362847\n",
      "Name: s1corr, dtype: float64 condition\n",
      "FW    0.653846\n",
      "RV    0.452991\n",
      "Name: s2corr, dtype: float64\n"
     ]
    },
    {
     "data": {
      "image/png": "[encoded data removed]",
      "text/plain": [
       "<Figure size 432x288 with 1 Axes>"
      ]
     },
     "metadata": {
      "needs_background": "light"
     },
     "output_type": "display_data"
    }
   ],
   "source": [
    "import pandas as pd\n",
    "import numpy as np\n",
    "import matplotlib.pyplot as plt\n",
    "\n",
    "df = pd.read_excel(r\"D:\\jupy nt\\2019_6_datahomework\\all\\s1s2.xlsx\")\n",
    "df = pd.DataFrame(df)\n",
    "df.head()\n",
    "\n",
    "n1 = 32\n",
    "n2 = 26\n",
    "g = df.groupby([\"condition\"])\n",
    "m1 = g[\"s1corr\"].mean()\n",
    "se1 = g[\"s1corr\"].std()/np.sqrt(n1-1)\n",
    "m2 = g[\"s2corr\"].mean()\n",
    "se2 = g[\"s2corr\"].std()/np.sqrt(n2-1)\n",
    "print(m1,m2)\n",
    "\n",
    "x1 = [1,4.5]\n",
    "y1 = list(m1)\n",
    "e1 = list(se1)\n",
    "x2 = [2,5.5]\n",
    "y2 = list(m2)\n",
    "e2 = list(se2)\n",
    "plt.title(\"set1 %correct × condition\")\n",
    "plt.xlim(0,6.5)\n",
    "plt.xticks([1.5,5],[\"FW\",\"RV\"])\n",
    "plt.xlabel(\"condition\")\n",
    "plt.ylabel(\"%correct\")\n",
    "plt.bar(x1,y1,yerr = e1 ,alpha=0.7,width = 1,label = \"session1\",error_kw = {'ecolor' : 'grey', 'capsize' :5})\n",
    "plt.bar(x2,y2,yerr = e2 ,alpha=0.7,width = 1,label = \"session2\",error_kw = {'ecolor' : 'grey', 'capsize' :5})\n",
    "plt.legend(loc = 'best')\n",
    "plt.savefig(r\"D:\\jupy nt\\2019_6_datahomework\\all\\set1 %correct × condition.png\")\n",
    "plt.show()\n"
   ]
  },
  {
   "cell_type": "code",
   "execution_count": 37,
   "metadata": {
    "scrolled": true
   },
   "outputs": [
    {
     "name": "stdout",
     "output_type": "stream",
     "text": [
      "-0.48248488878678963\n",
      "[-0.4824848887867898, 0.012547930008532642]\n"
     ]
    },
    {
     "data": {
      "image/png": "[encoded data removed]",
      "text/plain": [
       "<Figure size 432x288 with 1 Axes>"
      ]
     },
     "metadata": {
      "needs_background": "light"
     },
     "output_type": "display_data"
    }
   ],
   "source": [
    "import numpy as np\n",
    "import matplotlib.pyplot as plt\n",
    "import scipy.stats as stats\n",
    "\n",
    "df = pd.read_excel(r\"D:\\jupy nt\\2019_6_datahomework\\all\\111.xlsx\")\n",
    "df = pd.DataFrame(df)\n",
    "df.head()\n",
    "\n",
    "data = df[['S1-S2','age1']]\n",
    "# #data.dropna(inplace = True)\n",
    "data1 = data[\"S1-S2\"]\n",
    "data2 = data[\"age1\"]\n",
    "a = np.array(data1)\n",
    "b = np.array(data2)\n",
    "list1 = a.tolist()\n",
    "list2 = b.tolist()\n",
    "# print(list1,list2)\n",
    "\n",
    "r = np.corrcoef(list1,list2)[0, 1]\n",
    "print(r)\n",
    "a = list(stats.pearsonr(data['S1-S2'],data[\"age1\"]))\n",
    "print(a)\n",
    "p = a[1]\n",
    "plt.title(\"set1 $value× age$\")\n",
    "plt.xlabel(\" Age      \" + \" r = \" + str('%6f'%r) + \"  $p$ = \" + str('%6f'%p))\n",
    "plt.ylabel(\"value\")\n",
    "plt.scatter(list2,list1)\n",
    "\n",
    "plt.savefig(r\"D:\\jupy nt\\2019_6_datahomework\\all\\set1 value× age.png\")\n"
   ]
  }
 ],
 "metadata": {
  "kernelspec": {
   "display_name": "Python 3",
   "language": "python",
   "name": "python3"
  },
  "language_info": {
   "codemirror_mode": {
    "name": "ipython",
    "version": 3
   },
   "file_extension": ".py",
   "mimetype": "text/x-python",
   "name": "python",
   "nbconvert_exporter": "python",
   "pygments_lexer": "ipython3",
   "version": "3.7.3"
  }
 },
 "nbformat": 4,
 "nbformat_minor": 2
}
